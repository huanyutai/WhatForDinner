{
 "cells": [
  {
   "cell_type": "markdown",
   "metadata": {},
   "source": [
    "<h1> Restaurants Clustering"
   ]
  },
  {
   "cell_type": "markdown",
   "metadata": {},
   "source": [
    "In this section, we apply K-Means unsupervised learning algorithm on the restaurant locations in order to classify the restaurants into clusters."
   ]
  },
  {
   "cell_type": "markdown",
   "metadata": {},
   "source": [
    "<h2>Step 1: Import the restaurants location information"
   ]
  },
  {
   "cell_type": "code",
   "execution_count": 1,
   "metadata": {},
   "outputs": [],
   "source": [
    "import pandas as pd\n",
    "import numpy as np\n",
    "from sklearn.cluster import KMeans\n",
    "import matplotlib.pyplot as plt\n",
    "import json"
   ]
  },
  {
   "cell_type": "code",
   "execution_count": 2,
   "metadata": {},
   "outputs": [],
   "source": [
    "#Import restaurants dataset\n",
    "with open('yelp_lv_food.json','r') as json_data:\n",
    "    data = json_data.read()\n",
    "data\n",
    "restaurants = json.loads(data)  "
   ]
  },
  {
   "cell_type": "code",
   "execution_count": 3,
   "metadata": {},
   "outputs": [],
   "source": [
    "for restaurant in restaurants:\n",
    "    if restaurant['longitude'] == None:\n",
    "        print(restaurant['name'])"
   ]
  },
  {
   "cell_type": "code",
   "execution_count": 5,
   "metadata": {},
   "outputs": [],
   "source": [
    "#Get the location of restaurants in New York\n",
    "import numpy as np\n",
    "restaurants_locations = list()\n",
    "for i in range(len(restaurants)):\n",
    "    latitude = restaurants[i]['latitude']\n",
    "    longitude = restaurants[i]['longitude']\n",
    "    if (latitude!=None) and (longitude!=None):\n",
    "        restaurants_locations.append([latitude,longitude])\n",
    "    else:\n",
    "        del restaurants[i]\n",
    "restaurants_locations = np.array(restaurants_locations)"
   ]
  },
  {
   "cell_type": "markdown",
   "metadata": {},
   "source": [
    "<h2>Step 2: Determine how many clusters should restaurants be classified into"
   ]
  },
  {
   "cell_type": "markdown",
   "metadata": {},
   "source": [
    "In this section, we use the elbow method to determine the optimal numbers of clusters should be classified into. The idea of the elbow method is to run k-means clustering on the dataset for a range of values of k (say, k from 1 to 30 in the examples), and for each value of k calculate the sum of squared errors (SSE). \n",
    "\n",
    "Then, plot a line chart of the SSE for each value of k. If the line chart looks like an arm, then the \"elbow\" on the arm is the value of k that is the best. The idea is that we want a small SSE, but that the SSE tends to decrease toward 0 as we increase k (the SSE is 0 when k is equal to the number of data points in the dataset, because then each data point is its own cluster, and there is no error between it and the center of its cluster). So our goal is to choose a small value of k that still has a low SSE, and the elbow usually represents where we start to have diminishing returns by increasing k."
   ]
  },
  {
   "cell_type": "code",
   "execution_count": 6,
   "metadata": {},
   "outputs": [],
   "source": [
    "#Calcus the SSEs of each value of k (from 1 to 30 in the example)\n",
    "def cluster_k(restaurants_locations):\n",
    "    SSE = []  # The MSE of each\n",
    "    for k in range(1,30):\n",
    "        estimator = KMeans(n_clusters=k)  # 构造聚类器\n",
    "        estimator.fit(restaurants_locations)\n",
    "        SSE.append(estimator.inertia_)\n",
    "    return SSE\n",
    "SSE=cluster_k(restaurants_locations)"
   ]
  },
  {
   "cell_type": "code",
   "execution_count": 7,
   "metadata": {},
   "outputs": [
    {
     "data": {
      "image/png": "[encoded data removed]",
      "text/plain": [
       "<Figure size 864x360 with 2 Axes>"
      ]
     },
     "metadata": {},
     "output_type": "display_data"
    }
   ],
   "source": [
    "#Visualize \n",
    "plt.figure(figsize=(12, 5))\n",
    "ax1 = plt.subplot(1,2,1)\n",
    "plt.xlabel('k')\n",
    "plt.ylabel('SSE')\n",
    "plt.plot(range(1,30),SSE,'o-')\n",
    "\n",
    "ax2 = plt.subplot(1,2,2)\n",
    "plt.xlabel('k')\n",
    "plt.ylabel('SSE')\n",
    "plt.plot(range(10,21),SSE[10:21],'o-')\n",
    "\n",
    "plt.show()"
   ]
  },
  {
   "cell_type": "markdown",
   "metadata": {},
   "source": [
    "<h4>From the plots above, k=13 is approximately an 'elbow point'. Therefore, we choose to classified the restaurants into 13 clusters."
   ]
  },
  {
   "cell_type": "markdown",
   "metadata": {},
   "source": [
    "<h2>Step 3: Classified the restaurants into 13 clusters, output the clusters dictionary and locations of clusters centers."
   ]
  },
  {
   "cell_type": "code",
   "execution_count": 8,
   "metadata": {},
   "outputs": [],
   "source": [
    "def cluster(restaurants, restaurants_locations, k):\n",
    "    #Fit kmeans model for all the restaurants in New York\n",
    "    kmeans = KMeans(n_clusters=k, random_state=0).fit(restaurants_locations)\n",
    "    labels = kmeans.labels_\n",
    "    centers = kmeans.cluster_centers_\n",
    "\n",
    "    \n",
    "    #Show the restaurant belongs to which cluster\n",
    "    i = 0\n",
    "    for restaurant in restaurants:\n",
    "        restaurant['label'] = int(labels[i])\n",
    "        i = i + 1\n",
    "    \n",
    "    #Create a empty output list\n",
    "    clusters = list()\n",
    "    for i in range(k):\n",
    "        cluster = list()\n",
    "        clusters.append(cluster)\n",
    "        \n",
    "    #Add restaurant information to the empty output list\n",
    "    for restaurant in restaurants:\n",
    "        label = restaurant['label']\n",
    "        clusters[label].append(restaurant)\n",
    "    \n",
    "    #Transfor centers ndarry in to a list\n",
    "    centers =centers.tolist()\n",
    "    \n",
    "    return clusters,centers\n",
    "\n",
    "clusters, centers = cluster(restaurants,restaurants_locations,13)"
   ]
  },
  {
   "cell_type": "code",
   "execution_count": 9,
   "metadata": {},
   "outputs": [],
   "source": [
    "with open('clusters.json', 'w') as f:\n",
    "    json.dump(clusters, f)\n",
    "with open('clusters_centers.json', 'w') as f:\n",
    "    json.dump(centers, f)"
   ]
  },
  {
   "cell_type": "code",
   "execution_count": null,
   "metadata": {},
   "outputs": [],
   "source": []
  }
 ],
 "metadata": {
  "kernelspec": {
   "display_name": "Python 3",
   "language": "python",
   "name": "python3"
  },
  "language_info": {
   "codemirror_mode": {
    "name": "ipython",
    "version": 3
   },
   "file_extension": ".py",
   "mimetype": "text/x-python",
   "name": "python",
   "nbconvert_exporter": "python",
   "pygments_lexer": "ipython3",
   "version": "3.6.5"
  }
 },
 "nbformat": 4,
 "nbformat_minor": 2
}
