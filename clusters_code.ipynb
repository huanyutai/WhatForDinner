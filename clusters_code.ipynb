{
 "cells": [
  {
   "cell_type": "markdown",
   "metadata": {},
   "source": [
    "<h1> Restaurants Clustering"
   ]
  },
  {
   "cell_type": "markdown",
   "metadata": {},
   "source": [
    "In this section, we apply K-Means unsupervised learning algorithm on the restaurant locations in order to classify the restaurants into clusters."
   ]
  },
  {
   "cell_type": "markdown",
   "metadata": {},
   "source": [
    "<h2>Step 1: Import the restaurants location information"
   ]
  },
  {
   "cell_type": "code",
   "execution_count": 1,
   "metadata": {},
   "outputs": [],
   "source": [
    "import pandas as pd\n",
    "import numpy as np\n",
    "from sklearn.cluster import KMeans\n",
    "import matplotlib.pyplot as plt\n",
    "import json"
   ]
  },
  {
   "cell_type": "code",
   "execution_count": 2,
   "metadata": {},
   "outputs": [],
   "source": [
    "#Import restaurants dataset\n",
    "with open('yelp_lv_food.json','r') as json_data:\n",
    "    data = json_data.read()\n",
    "restaurants_org = json.loads(data)  "
   ]
  },
  {
   "cell_type": "code",
   "execution_count": 3,
   "metadata": {},
   "outputs": [],
   "source": [
    "#Get the location of restaurants in Las Vegas\n",
    "restaurants = []\n",
    "restaurants_locations = list()\n",
    "for i in range(len(restaurants_org)):\n",
    "    latitude = restaurants_org[i]['latitude']\n",
    "    longitude = restaurants_org[i]['longitude']\n",
    "    if (latitude!=None) and (longitude!=None):\n",
    "        restaurants.append(restaurants_org[i])\n",
    "        restaurants_locations.append([latitude,longitude])\n",
    "restaurants_locations = np.array(restaurants_locations)"
   ]
  },
  {
   "cell_type": "markdown",
   "metadata": {},
   "source": [
    "<h2>Step 2: Determine how many clusters should restaurants be classified into"
   ]
  },
  {
   "cell_type": "markdown",
   "metadata": {},
   "source": [
    "In this section, we use the elbow method to determine the optimal numbers of clusters should be classified into. The idea of the elbow method is to run k-means clustering on the dataset for a range of values of k (say, k from 1 to 30 in the examples), and for each value of k calculate the sum of squared errors (SSE). \n",
    "\n",
    "Then, plot a line chart of the SSE for each value of k. If the line chart looks like an arm, then the \"elbow\" on the arm is the value of k that is the best. The idea is that we want a small SSE, but that the SSE tends to decrease toward 0 as we increase k (the SSE is 0 when k is equal to the number of data points in the dataset, because then each data point is its own cluster, and there is no error between it and the center of its cluster). So our goal is to choose a small value of k that still has a low SSE, and the elbow usually represents where we start to have diminishing returns by increasing k."
   ]
  },
  {
   "cell_type": "code",
   "execution_count": 4,
   "metadata": {},
   "outputs": [],
   "source": [
    "#Calcus the SSEs of each value of k (from 1 to 30 in the example)\n",
    "def cluster_k(restaurants_locations):\n",
    "    SSE = []  # The MSE of each\n",
    "    for k in range(1,30):\n",
    "        estimator = KMeans(n_clusters=k)  # 构造聚类器\n",
    "        estimator.fit(restaurants_locations)\n",
    "        SSE.append(estimator.inertia_)\n",
    "    return SSE\n",
    "SSE=cluster_k(restaurants_locations)"
   ]
  },
  {
   "cell_type": "code",
   "execution_count": 5,
   "metadata": {},
   "outputs": [
    {
     "data": {
      "image/png": "[encoded data removed]",
      "text/plain": [
       "<Figure size 864x360 with 2 Axes>"
      ]
     },
     "metadata": {},
     "output_type": "display_data"
    }
   ],
   "source": [
    "#Visualize \n",
    "plt.figure(figsize=(12, 5))\n",
    "ax1 = plt.subplot(1,2,1)\n",
    "plt.xlabel('k')\n",
    "plt.ylabel('SSE')\n",
    "plt.plot(range(1,30),SSE,'o-')\n",
    "\n",
    "ax2 = plt.subplot(1,2,2)\n",
    "plt.xlabel('k')\n",
    "plt.ylabel('SSE')\n",
    "plt.plot(range(10,21),SSE[10:21],'o-')\n",
    "\n",
    "plt.show()"
   ]
  },
  {
   "cell_type": "markdown",
   "metadata": {},
   "source": [
    "<h4>From the plots above, k=13 is approximately an 'elbow point'. Therefore, we choose to classified the restaurants into 13 clusters."
   ]
  },
  {
   "cell_type": "markdown",
   "metadata": {},
   "source": [
    "<h2>Step 3: Classified the restaurants into 13 clusters, output the clusters dictionary and locations of clusters centers."
   ]
  },
  {
   "cell_type": "code",
   "execution_count": 12,
   "metadata": {},
   "outputs": [
    {
     "data": {
      "text/plain": [
       "8936"
      ]
     },
     "execution_count": 12,
     "metadata": {},
     "output_type": "execute_result"
    }
   ],
   "source": [
    "len(restaurants)"
   ]
  },
  {
   "cell_type": "code",
   "execution_count": 8,
   "metadata": {},
   "outputs": [
    {
     "ename": "IndexError",
     "evalue": "index 8935 is out of bounds for axis 0 with size 8935",
     "output_type": "error",
     "traceback": [
      "\u001b[1;31m---------------------------------------------------------------------------\u001b[0m",
      "\u001b[1;31mIndexError\u001b[0m                                Traceback (most recent call last)",
      "\u001b[1;32m<ipython-input-8-22eefb061b5c>\u001b[0m in \u001b[0;36m<module>\u001b[1;34m()\u001b[0m\n\u001b[0;32m     28\u001b[0m     \u001b[1;32mreturn\u001b[0m \u001b[0mclusters\u001b[0m\u001b[1;33m,\u001b[0m\u001b[0mcenters\u001b[0m\u001b[1;33m\u001b[0m\u001b[0m\n\u001b[0;32m     29\u001b[0m \u001b[1;33m\u001b[0m\u001b[0m\n\u001b[1;32m---> 30\u001b[1;33m \u001b[0mclusters\u001b[0m\u001b[1;33m,\u001b[0m \u001b[0mcenters\u001b[0m \u001b[1;33m=\u001b[0m \u001b[0mcluster\u001b[0m\u001b[1;33m(\u001b[0m\u001b[0mrestaurants\u001b[0m\u001b[1;33m,\u001b[0m\u001b[0mrestaurants_locations\u001b[0m\u001b[1;33m,\u001b[0m\u001b[1;36m13\u001b[0m\u001b[1;33m)\u001b[0m\u001b[1;33m\u001b[0m\u001b[0m\n\u001b[0m",
      "\u001b[1;32m<ipython-input-8-22eefb061b5c>\u001b[0m in \u001b[0;36mcluster\u001b[1;34m(restaurants, restaurants_locations, k)\u001b[0m\n\u001b[0;32m      9\u001b[0m     \u001b[0mi\u001b[0m \u001b[1;33m=\u001b[0m \u001b[1;36m0\u001b[0m\u001b[1;33m\u001b[0m\u001b[0m\n\u001b[0;32m     10\u001b[0m     \u001b[1;32mfor\u001b[0m \u001b[0mrestaurant\u001b[0m \u001b[1;32min\u001b[0m \u001b[0mrestaurants\u001b[0m\u001b[1;33m:\u001b[0m\u001b[1;33m\u001b[0m\u001b[0m\n\u001b[1;32m---> 11\u001b[1;33m         \u001b[0mrestaurant\u001b[0m\u001b[1;33m[\u001b[0m\u001b[1;34m'label'\u001b[0m\u001b[1;33m]\u001b[0m \u001b[1;33m=\u001b[0m \u001b[0mint\u001b[0m\u001b[1;33m(\u001b[0m\u001b[0mlabels\u001b[0m\u001b[1;33m[\u001b[0m\u001b[0mi\u001b[0m\u001b[1;33m]\u001b[0m\u001b[1;33m)\u001b[0m\u001b[1;33m\u001b[0m\u001b[0m\n\u001b[0m\u001b[0;32m     12\u001b[0m         \u001b[0mi\u001b[0m \u001b[1;33m=\u001b[0m \u001b[0mi\u001b[0m \u001b[1;33m+\u001b[0m \u001b[1;36m1\u001b[0m\u001b[1;33m\u001b[0m\u001b[0m\n\u001b[0;32m     13\u001b[0m \u001b[1;33m\u001b[0m\u001b[0m\n",
      "\u001b[1;31mIndexError\u001b[0m: index 8935 is out of bounds for axis 0 with size 8935"
     ]
    }
   ],
   "source": [
    "def cluster(restaurants, restaurants_locations, k):\n",
    "    #Fit kmeans model for all the restaurants in Las Vegas\n",
    "    kmeans = KMeans(n_clusters=k, random_state=0).fit(restaurants_locations)\n",
    "    labels = kmeans.labels_\n",
    "    centers = kmeans.cluster_centers_\n",
    "\n",
    "    \n",
    "    #Show the restaurant belongs to which cluster\n",
    "    i = 0\n",
    "    for restaurant in restaurants:\n",
    "        restaurant['label'] = int(labels[i])\n",
    "        i = i + 1\n",
    "    \n",
    "    #Create a empty output list\n",
    "    clusters = list()\n",
    "    for i in range(k):\n",
    "        cluster = list()\n",
    "        clusters.append(cluster)\n",
    "        \n",
    "    #Add restaurant information to the empty output list\n",
    "    for restaurant in restaurants:\n",
    "        label = restaurant['label']\n",
    "        clusters[label].append(restaurant)\n",
    "    \n",
    "    #Transfor centers ndarry in to a list\n",
    "    centers =centers.tolist()\n",
    "    \n",
    "    return clusters,centers\n",
    "\n",
    "clusters, centers = cluster(restaurants,restaurants_locations,13)"
   ]
  },
  {
   "cell_type": "code",
   "execution_count": null,
   "metadata": {},
   "outputs": [],
   "source": [
    "with open('clusters.json', 'w') as f:\n",
    "    json.dump(clusters, f)\n",
    "with open('clusters_centers.json', 'w') as f:\n",
    "    json.dump(centers, f)"
   ]
  },
  {
   "cell_type": "markdown",
   "metadata": {},
   "source": [
    "<h2>Step 4: Visualize the clusters"
   ]
  },
  {
   "cell_type": "code",
   "execution_count": null,
   "metadata": {},
   "outputs": [],
   "source": [
    "#Sample 10% restaurants for clusters visualization\n",
    "import os\n",
    "import random\n",
    "\n",
    "result_list = clusters\n",
    "result_sample_list = []\n",
    "for i in range(len(result_list)):\n",
    "    result_sample = random.sample(result_list[i],int(len(result_list[i])/10))\n",
    "    result_sample_list.append(result_sample)"
   ]
  },
  {
   "cell_type": "code",
   "execution_count": null,
   "metadata": {},
   "outputs": [],
   "source": [
    "#Show the map of 10% sampled points\n",
    "import folium\n",
    "m = folium.Map(location=[36.16667,-115.13333],zoom_start=10)\n",
    "color = ['#990033','#CC3300','#99FFFF','FF99CC','FF6633','#00CC66','FF3366',\n",
    "         '#FF9933','#669999','#990099','#9933FF','#FF6699','#FF3399']\n",
    "i=0\n",
    "for result in result_sample_list:\n",
    "    col = color[i]\n",
    "    i += 1\n",
    "    for restaurant in result:\n",
    "        lat = restaurant['latitude']\n",
    "        lon = restaurant['longitude']\n",
    "        name = restaurant['name']\n",
    "        folium.CircleMarker(\n",
    "                location = [lat,lon],\n",
    "                fill = True,\n",
    "                popup=\"%s\"%name,\n",
    "                radius = 5,\n",
    "                color=col,\n",
    "                ).add_to(m)\n",
    "m"
   ]
  },
  {
   "cell_type": "code",
   "execution_count": null,
   "metadata": {},
   "outputs": [],
   "source": [
    "#Save the full map to html\n",
    "import folium\n",
    "m = folium.Map(location=[36.16667,-115.13333],zoom_start=10)\n",
    "color = ['#990033','#CC3300','#99FFFF','FF99CC','FF6633','#00CC66','FF3366',\n",
    "         '#FF9933','#669999','#990099','#9933FF','#FF6699','#FF3399']\n",
    "i=0\n",
    "for result in result_list:\n",
    "    col = color[i]\n",
    "    i += 1\n",
    "    for restaurant in result:\n",
    "        lat = restaurant['latitude']\n",
    "        lon = restaurant['longitude']\n",
    "        name = restaurant['name']\n",
    "        folium.CircleMarker(\n",
    "                location = [lat,lon],\n",
    "                fill = True,\n",
    "                popup=\"%s\"%name,\n",
    "                radius = 5,\n",
    "                color=col,\n",
    "                ).add_to(m)\n",
    "m.save(os.path.join('clusters_map.html'))"
   ]
  },
  {
   "cell_type": "code",
   "execution_count": null,
   "metadata": {},
   "outputs": [],
   "source": []
  }
 ],
 "metadata": {
  "kernelspec": {
   "display_name": "Python 3",
   "language": "python",
   "name": "python3"
  },
  "language_info": {
   "codemirror_mode": {
    "name": "ipython",
    "version": 3
   },
   "file_extension": ".py",
   "mimetype": "text/x-python",
   "name": "python",
   "nbconvert_exporter": "python",
   "pygments_lexer": "ipython3",
   "version": "3.6.5"
  }
 },
 "nbformat": 4,
 "nbformat_minor": 2
}
