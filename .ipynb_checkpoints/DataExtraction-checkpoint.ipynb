{
 "cells": [
  {
   "cell_type": "markdown",
   "metadata": {},
   "source": [
    "Part1: Discard those unnecessary data. Extract info about 'name', 'address', 'city', 'state', 'geoinfo', 'stars', 'categories'"
   ]
  },
  {
   "cell_type": "code",
   "execution_count": 1,
   "metadata": {},
   "outputs": [
    {
     "ename": "FileNotFoundError",
     "evalue": "[Errno 2] No such file or directory: 'yelp_academic_dataset_business.json'",
     "output_type": "error",
     "traceback": [
      "\u001b[1;31m---------------------------------------------------------------------------\u001b[0m",
      "\u001b[1;31mFileNotFoundError\u001b[0m                         Traceback (most recent call last)",
      "\u001b[1;32m<ipython-input-1-5ba2b2942b1c>\u001b[0m in \u001b[0;36m<module>\u001b[1;34m()\u001b[0m\n\u001b[0;32m      1\u001b[0m \u001b[1;32mimport\u001b[0m \u001b[0mjson\u001b[0m\u001b[1;33m\u001b[0m\u001b[0m\n\u001b[0;32m      2\u001b[0m \u001b[1;33m\u001b[0m\u001b[0m\n\u001b[1;32m----> 3\u001b[1;33m \u001b[1;32mwith\u001b[0m \u001b[0mopen\u001b[0m\u001b[1;33m(\u001b[0m\u001b[1;34m'yelp_academic_dataset_business.json'\u001b[0m\u001b[1;33m,\u001b[0m\u001b[1;34m'rb'\u001b[0m\u001b[1;33m)\u001b[0m \u001b[1;32mas\u001b[0m \u001b[0mjson_data\u001b[0m\u001b[1;33m:\u001b[0m\u001b[1;33m\u001b[0m\u001b[0m\n\u001b[0m\u001b[0;32m      4\u001b[0m     \u001b[0mdata\u001b[0m \u001b[1;33m=\u001b[0m \u001b[0mjson_data\u001b[0m\u001b[1;33m.\u001b[0m\u001b[0mreadlines\u001b[0m\u001b[1;33m(\u001b[0m\u001b[1;33m)\u001b[0m\u001b[1;33m\u001b[0m\u001b[0m\n\u001b[0;32m      5\u001b[0m     \u001b[0myelp_data\u001b[0m \u001b[1;33m=\u001b[0m \u001b[1;33m[\u001b[0m\u001b[0mjson\u001b[0m\u001b[1;33m.\u001b[0m\u001b[0mloads\u001b[0m\u001b[1;33m(\u001b[0m\u001b[0mitem\u001b[0m\u001b[1;33m)\u001b[0m \u001b[1;32mfor\u001b[0m \u001b[0mitem\u001b[0m \u001b[1;32min\u001b[0m \u001b[0mdata\u001b[0m\u001b[1;33m]\u001b[0m\u001b[1;33m\u001b[0m\u001b[0m\n",
      "\u001b[1;31mFileNotFoundError\u001b[0m: [Errno 2] No such file or directory: 'yelp_academic_dataset_business.json'"
     ]
    }
   ],
   "source": [
    "import json\n",
    "\n",
    "with open('yelp_academic_dataset_business.json','rb') as json_data:\n",
    "    data = json_data.readlines()\n",
    "    yelp_data = [json.loads(item) for item in data]\n",
    "    result = []\n",
    "    for yelp_dict in yelp_data:\n",
    "            name = yelp_dict['name']\n",
    "            address = yelp_dict['address']\n",
    "            city = yelp_dict['city']\n",
    "            state = yelp_dict['state']\n",
    "            latitude = yelp_dict['latitude']\n",
    "            longitude = yelp_dict['longitude']\n",
    "            stars = yelp_dict['stars']\n",
    "            categories = yelp_dict['categories']\n",
    "            \n",
    "            temp_dict = {}\n",
    "            \n",
    "            yelp = './yelp.json'\n",
    "            temp_dict['name'] = name\n",
    "            temp_dict['address'] = address\n",
    "            temp_dict['city'] = city\n",
    "            temp_dict['state'] = state\n",
    "            temp_dict['latitude'] = latitude\n",
    "            temp_dict['longitude'] = longitude\n",
    "            temp_dict['stars'] = stars\n",
    "            temp_dict['categories'] = categories\n",
    "            result.append(temp_dict)\n"
   ]
  },
  {
   "cell_type": "markdown",
   "metadata": {},
   "source": [
    "Part2: Extract infomation about Las Vegas"
   ]
  },
  {
   "cell_type": "code",
   "execution_count": 9,
   "metadata": {},
   "outputs": [],
   "source": [
    "biz_data = result"
   ]
  },
  {
   "cell_type": "code",
   "execution_count": 14,
   "metadata": {},
   "outputs": [],
   "source": [
    "biz_lv = []\n",
    "for biz in biz_data:\n",
    "    try:\n",
    "        if biz['city'] == 'Las Vegas':\n",
    "            biz_lv.append(biz)\n",
    "    except:\n",
    "        pass"
   ]
  },
  {
   "cell_type": "markdown",
   "metadata": {},
   "source": [
    "Part3: Extract all the food related business in Las Vegas"
   ]
  },
  {
   "cell_type": "code",
   "execution_count": 15,
   "metadata": {},
   "outputs": [],
   "source": [
    "#define the vocabulary list for food\n",
    "voc_list = ['food', 'restaurant', 'bar', 'beer', 'sandwich', 'cafe', 'deli']"
   ]
  },
  {
   "cell_type": "code",
   "execution_count": 16,
   "metadata": {},
   "outputs": [],
   "source": [
    "def whether_food(str_):\n",
    "    for voc in voc_list:\n",
    "        if str_.find(voc) != -1:\n",
    "            return 1\n",
    "        else:\n",
    "            pass\n",
    "    return 0"
   ]
  },
  {
   "cell_type": "code",
   "execution_count": 17,
   "metadata": {},
   "outputs": [],
   "source": [
    "for i in range(len(biz_lv)):\n",
    "    try:\n",
    "        if whether_food(biz_lv[i]['categories'].lower()):\n",
    "            biz_lv[i]['whether_Food'] = 1\n",
    "        else:\n",
    "            biz_lv[i]['whether_Food'] = 0\n",
    "    except:\n",
    "        biz_lv[i]['whether_Food'] = 0"
   ]
  },
  {
   "cell_type": "code",
   "execution_count": 19,
   "metadata": {},
   "outputs": [],
   "source": [
    "biz_lv_food = []\n",
    "for biz in biz_lv:\n",
    "    if biz['whether_Food'] == 1:\n",
    "        biz_lv_food.append(biz)"
   ]
  },
  {
   "cell_type": "code",
   "execution_count": 20,
   "metadata": {},
   "outputs": [],
   "source": [
    "with open('yelp_lv_food.json', 'w') as f:\n",
    "            json.dump(biz_lv_food, f)"
   ]
  },
  {
   "cell_type": "code",
   "execution_count": null,
   "metadata": {},
   "outputs": [],
   "source": []
  }
 ],
 "metadata": {
  "kernelspec": {
   "display_name": "Python 3",
   "language": "python",
   "name": "python3"
  },
  "language_info": {
   "codemirror_mode": {
    "name": "ipython",
    "version": 3
   },
   "file_extension": ".py",
   "mimetype": "text/x-python",
   "name": "python",
   "nbconvert_exporter": "python",
   "pygments_lexer": "ipython3",
   "version": "3.6.5"
  }
 },
 "nbformat": 4,
 "nbformat_minor": 2
}
