{
 "cells": [
  {
   "cell_type": "markdown",
   "metadata": {},
   "source": [
    "<h2>Library Setup</h2>"
   ]
  },
  {
   "cell_type": "code",
   "execution_count": 4,
   "metadata": {
    "collapsed": true
   },
   "outputs": [
    {
     "name": "stdout",
     "output_type": "stream",
     "text": [
      "Collecting shapely\n",
      "  Downloading https://files.pythonhosted.org/packages/38/b6/b53f19062afd49bb5abd049aeed36f13bf8d57ef8f3fa07a5203531a0252/Shapely-1.6.4.post2-cp36-cp36m-manylinux1_x86_64.whl (1.5MB)\n",
      "\u001b[K    100% |████████████████████████████████| 1.5MB 866kB/s eta 0:00:01\n",
      "\u001b[?25hInstalling collected packages: shapely\n",
      "Successfully installed shapely-1.6.4.post2\n",
      "\u001b[33mYou are using pip version 9.0.1, however version 18.1 is available.\n",
      "You should consider upgrading via the 'pip install --upgrade pip' command.\u001b[0m\n",
      "Collecting geojsonio\n",
      "  Downloading https://files.pythonhosted.org/packages/7f/42/a773a4d4a6a78261dce418269cd017d8ff401206bc5724d9390084ebbf3d/geojsonio-0.0.3.tar.gz\n",
      "Collecting github3.py (from geojsonio)\n",
      "  Downloading https://files.pythonhosted.org/packages/00/cb/ee49ebb79f900b6fe37f53e128ad63d0d0d7bd72caee2a47bd813f046bbc/github3.py-1.2.0-py2.py3-none-any.whl (142kB)\n",
      "\u001b[K    100% |████████████████████████████████| 143kB 7.4MB/s eta 0:00:01\n",
      "\u001b[?25hRequirement already up-to-date: six in /usr/local/lib/python3.6/site-packages (from geojsonio)\n",
      "Collecting requests>=2.18 (from github3.py->geojsonio)\n",
      "  Downloading https://files.pythonhosted.org/packages/ff/17/5cbb026005115301a8fb2f9b0e3e8d32313142fe8b617070e7baad20554f/requests-2.20.1-py2.py3-none-any.whl (57kB)\n",
      "\u001b[K    100% |████████████████████████████████| 61kB 5.8MB/s eta 0:00:01\n",
      "\u001b[?25hCollecting python-dateutil>=2.6.0 (from github3.py->geojsonio)\n",
      "  Downloading https://files.pythonhosted.org/packages/74/68/d87d9b36af36f44254a8d512cbfc48369103a3b9e474be9bdfe536abfc45/python_dateutil-2.7.5-py2.py3-none-any.whl (225kB)\n",
      "\u001b[K    100% |████████████████████████████████| 235kB 5.4MB/s eta 0:00:01\n",
      "\u001b[?25hCollecting jwcrypto>=0.5.0 (from github3.py->geojsonio)\n",
      "  Downloading https://files.pythonhosted.org/packages/f0/0d/00173a6aee1025e529b21c365182c8d06e78b1beb98d5633f841da6f122e/jwcrypto-0.6.0-py2.py3-none-any.whl (73kB)\n",
      "\u001b[K    100% |████████████████████████████████| 81kB 7.0MB/s eta 0:00:01\n",
      "\u001b[?25hCollecting uritemplate>=3.0.0 (from github3.py->geojsonio)\n",
      "  Downloading https://files.pythonhosted.org/packages/e5/7d/9d5a640c4f8bf2c8b1afc015e9a9d8de32e13c9016dcc4b0ec03481fb396/uritemplate-3.0.0-py2.py3-none-any.whl\n",
      "Collecting urllib3<1.25,>=1.21.1 (from requests>=2.18->github3.py->geojsonio)\n",
      "  Downloading https://files.pythonhosted.org/packages/62/00/ee1d7de624db8ba7090d1226aebefab96a2c71cd5cfa7629d6ad3f61b79e/urllib3-1.24.1-py2.py3-none-any.whl (118kB)\n",
      "\u001b[K    100% |████████████████████████████████| 122kB 8.9MB/s eta 0:00:01\n",
      "\u001b[?25hCollecting idna<2.8,>=2.5 (from requests>=2.18->github3.py->geojsonio)\n",
      "  Downloading https://files.pythonhosted.org/packages/4b/2a/0276479a4b3caeb8a8c1af2f8e4355746a97fab05a372e4a2c6a6b876165/idna-2.7-py2.py3-none-any.whl (58kB)\n",
      "\u001b[K    100% |████████████████████████████████| 61kB 9.3MB/s eta 0:00:01\n",
      "\u001b[?25hCollecting chardet<3.1.0,>=3.0.2 (from requests>=2.18->github3.py->geojsonio)\n",
      "  Downloading https://files.pythonhosted.org/packages/bc/a9/01ffebfb562e4274b6487b4bb1ddec7ca55ec7510b22e4c51f14098443b8/chardet-3.0.4-py2.py3-none-any.whl (133kB)\n",
      "\u001b[K    100% |████████████████████████████████| 143kB 8.3MB/s eta 0:00:01\n",
      "\u001b[?25hCollecting certifi>=2017.4.17 (from requests>=2.18->github3.py->geojsonio)\n",
      "  Downloading https://files.pythonhosted.org/packages/56/9d/1d02dd80bc4cd955f98980f28c5ee2200e1209292d5f9e9cc8d030d18655/certifi-2018.10.15-py2.py3-none-any.whl (146kB)\n",
      "\u001b[K    100% |████████████████████████████████| 153kB 7.7MB/s eta 0:00:01\n",
      "\u001b[?25hCollecting cryptography>=1.5 (from jwcrypto>=0.5.0->github3.py->geojsonio)\n",
      "  Downloading https://files.pythonhosted.org/packages/ec/18/1583e40c38ff8572c42e56ce17b95357a9ebb91375cfbd7aad63cac9a32e/cryptography-2.4.1-cp34-abi3-manylinux1_x86_64.whl (2.1MB)\n",
      "\u001b[K    100% |████████████████████████████████| 2.1MB 546kB/s eta 0:00:01\n",
      "\u001b[?25hCollecting cffi!=1.11.3,>=1.7 (from cryptography>=1.5->jwcrypto>=0.5.0->github3.py->geojsonio)\n",
      "  Downloading https://files.pythonhosted.org/packages/6d/c0/47db8f624f3e4e2f3f27be03a93379d1ba16a1450a7b1aacfa0366e2c0dd/cffi-1.11.5-cp36-cp36m-manylinux1_x86_64.whl (421kB)\n",
      "\u001b[K    100% |████████████████████████████████| 430kB 3.3MB/s eta 0:00:01\n",
      "\u001b[?25hCollecting asn1crypto>=0.21.0 (from cryptography>=1.5->jwcrypto>=0.5.0->github3.py->geojsonio)\n",
      "  Downloading https://files.pythonhosted.org/packages/ea/cd/35485615f45f30a510576f1a56d1e0a7ad7bd8ab5ed7cdc600ef7cd06222/asn1crypto-0.24.0-py2.py3-none-any.whl (101kB)\n",
      "\u001b[K    100% |████████████████████████████████| 102kB 7.3MB/s ta 0:00:01\n",
      "\u001b[?25hCollecting pycparser (from cffi!=1.11.3,>=1.7->cryptography>=1.5->jwcrypto>=0.5.0->github3.py->geojsonio)\n",
      "  Downloading https://files.pythonhosted.org/packages/68/9e/49196946aee219aead1290e00d1e7fdeab8567783e83e1b9ab5585e6206a/pycparser-2.19.tar.gz (158kB)\n",
      "\u001b[K    100% |████████████████████████████████| 163kB 6.1MB/s eta 0:00:01\n",
      "\u001b[?25hInstalling collected packages: urllib3, idna, chardet, certifi, requests, python-dateutil, pycparser, cffi, asn1crypto, cryptography, jwcrypto, uritemplate, github3.py, geojsonio\n",
      "  Found existing installation: python-dateutil 2.7.3\n",
      "    Uninstalling python-dateutil-2.7.3:\n",
      "      Successfully uninstalled python-dateutil-2.7.3\n",
      "  Running setup.py install for pycparser ... \u001b[?25ldone\n",
      "\u001b[?25h  Running setup.py install for geojsonio ... \u001b[?25ldone\n",
      "\u001b[?25hSuccessfully installed asn1crypto-0.24.0 certifi-2018.10.15 cffi-1.11.5 chardet-3.0.4 cryptography-2.4.1 geojsonio-0.0.3 github3.py-1.2.0 idna-2.7 jwcrypto-0.6.0 pycparser-2.19 python-dateutil-2.7.5 requests-2.20.1 uritemplate-3.0.0 urllib3-1.24.1\n",
      "\u001b[33mYou are using pip version 9.0.1, however version 18.1 is available.\n",
      "You should consider upgrading via the 'pip install --upgrade pip' command.\u001b[0m\n",
      "Collecting folium\n",
      "  Downloading https://files.pythonhosted.org/packages/88/89/8186c3441eb2a224d2896d9a8db6ded20ddd225f109e6144494a9893a0c1/folium-0.6.0-py3-none-any.whl (79kB)\n",
      "\u001b[K    100% |████████████████████████████████| 81kB 5.7MB/s ta 0:00:011\n",
      "\u001b[?25hCollecting branca>=0.3.0 (from folium)\n",
      "  Downloading https://files.pythonhosted.org/packages/63/36/1c93318e9653f4e414a2e0c3b98fc898b4970e939afeedeee6075dd3b703/branca-0.3.1-py3-none-any.whl\n",
      "Requirement already up-to-date: requests in /usr/local/lib/python3.6/site-packages (from folium)\n",
      "Requirement already up-to-date: six in /usr/local/lib/python3.6/site-packages (from folium)\n",
      "Requirement already up-to-date: jinja2 in /usr/local/lib/python3.6/site-packages (from folium)\n",
      "Collecting numpy (from folium)\n",
      "  Downloading https://files.pythonhosted.org/packages/ff/7f/9d804d2348471c67a7d8b5f84f9bc59fd1cefa148986f2b74552f8573555/numpy-1.15.4-cp36-cp36m-manylinux1_x86_64.whl (13.9MB)\n",
      "\u001b[K    100% |████████████████████████████████| 13.9MB 95kB/s  eta 0:00:01\n",
      "\u001b[?25hRequirement already up-to-date: certifi>=2017.4.17 in /usr/local/lib/python3.6/site-packages (from requests->folium)\n",
      "Requirement already up-to-date: chardet<3.1.0,>=3.0.2 in /usr/local/lib/python3.6/site-packages (from requests->folium)\n",
      "Requirement already up-to-date: urllib3<1.25,>=1.21.1 in /usr/local/lib/python3.6/site-packages (from requests->folium)\n",
      "Requirement already up-to-date: idna<2.8,>=2.5 in /usr/local/lib/python3.6/site-packages (from requests->folium)\n",
      "Collecting MarkupSafe>=0.23 (from jinja2->folium)\n",
      "  Downloading https://files.pythonhosted.org/packages/08/04/f2191b50fb7f0712f03f064b71d8b4605190f2178ba02e975a87f7b89a0d/MarkupSafe-1.1.0-cp36-cp36m-manylinux1_x86_64.whl\n",
      "Installing collected packages: branca, numpy, folium, MarkupSafe\n",
      "  Found existing installation: numpy 1.15.3\n",
      "    Uninstalling numpy-1.15.3:\n",
      "      Successfully uninstalled numpy-1.15.3\n",
      "  Found existing installation: MarkupSafe 1.0\n",
      "    Uninstalling MarkupSafe-1.0:\n",
      "      Successfully uninstalled MarkupSafe-1.0\n",
      "Successfully installed MarkupSafe-1.1.0 branca-0.3.1 folium-0.6.0 numpy-1.15.4\n",
      "\u001b[33mYou are using pip version 9.0.1, however version 18.1 is available.\n",
      "You should consider upgrading via the 'pip install --upgrade pip' command.\u001b[0m\n"
     ]
    }
   ],
   "source": [
    "!pip install shapely --upgrade\n",
    "!pip install geojsonio --upgrade\n",
    "!pip install folium --upgrade"
   ]
  },
  {
   "cell_type": "markdown",
   "metadata": {},
   "source": [
    "<h2>Clustering Visualization</h2>"
   ]
  },
  {
   "cell_type": "code",
   "execution_count": 1,
   "metadata": {},
   "outputs": [],
   "source": [
    "def ClusteringVisualization(file_name):\n",
    "    import json\n",
    "    import geojsonio\n",
    "    \n",
    "    with open(file_name) as fp:\n",
    "        data = fp.read()\n",
    "    \n",
    "    result_list = json.loads(data)\n",
    "    feature_list = []\n",
    "    feature_collection = {'type':\"FeatureCollection\",\"features\":feature_list}\n",
    "    color = ['#F596AA','#D05A6E','#EB7A77','#FB966E','#F05E1C','#AB3B3A','#E79460','#F9BF45','#EFBB24','#FAD689','#855B32','#BF6766','#FEDFE1']\n",
    "    i = 0\n",
    "    for results in result_list:\n",
    "        col = color[i]\n",
    "        i = i + 1\n",
    "        l = round(len(results) *0.1)\n",
    "        filtered_result = random.sample(results,l)\n",
    "        for restaurant in filtered_result:\n",
    "            name = restaurant['name']\n",
    "            lat = restaurant['latitude']\n",
    "            lon = restaurant['longitude']\n",
    "            resta_dict = {'type':\"Feature\",\n",
    "                          \"geometry\":{\"type\":\"Point\", \"coordinates\":[lon, lat]},\n",
    "                          \"properties\":{\"name\":name,'marker-color':col}}\n",
    "            feature_list.append(resta_dict)\n",
    "    import geojsonio\n",
    "    geojsonio.display(json.dumps(feature_collection))\n",
    "    "
   ]
  },
  {
   "cell_type": "code",
   "execution_count": 4,
   "metadata": {},
   "outputs": [],
   "source": [
    "ClusteringVisualization('clusters(13).json')"
   ]
  },
  {
   "cell_type": "markdown",
   "metadata": {},
   "source": [
    "<h2>Display Coodinates of our Users</h2>"
   ]
  },
  {
   "cell_type": "code",
   "execution_count": 92,
   "metadata": {},
   "outputs": [],
   "source": [
    "def UserCoodinates(lon,lat):\n",
    "    feature = {'type':\"Feature\",\"geometry\":{\"type\":\"Point\",\"coordinates\":[lon, lat]},\"properties\":{\"name\": \"User\"}}\n",
    "    geojsonio.display(json.dumps(feature))"
   ]
  },
  {
   "cell_type": "code",
   "execution_count": 93,
   "metadata": {},
   "outputs": [],
   "source": [
    "UserCoodinates(-115.22,36.22)"
   ]
  },
  {
   "cell_type": "markdown",
   "metadata": {},
   "source": [
    "<h2>Display the Final Result</h2>"
   ]
  },
  {
   "cell_type": "code",
   "execution_count": 3,
   "metadata": {},
   "outputs": [],
   "source": [
    "def ResultsVisualization(file_name):\n",
    "    with open(file_name) as fp:\n",
    "        data = fp.read()\n",
    "    \n",
    "    results = json.loads(data)\n",
    "    feature_list = []\n",
    "    feature_collection = {'type':\"FeatureCollection\",\"features\":feature_list}  \n",
    "    \n",
    "    lat = results[0][0]\n",
    "    lon = results[0][1]\n",
    "    feature = {'type':\"Feature\",\"geometry\":{\"type\":\"Point\",\"coordinates\":[lon, lat]},\"properties\":{\"name\": \"User\",'marker-color':'#FBE251'}}\n",
    "    feature_list.append(feature)\n",
    "    \n",
    "    for restaurant in results:\n",
    "            name = restaurant['name']\n",
    "            lat = restaurant['latitude']\n",
    "            lon = restaurant['longitude']\n",
    "            resta_dict = {'type':\"Feature\",\n",
    "                          \"geometry\":{\"type\":\"Point\", \"coordinates\":[lon, lat]},\n",
    "                          \"properties\":{\"name\":name,'marker-color':'#58B2DC'}}\n",
    "            feature_list.append(resta_dict)\n",
    "    \n",
    "    import geojsonio\n",
    "    geojsonio.display(json.dumps(feature_collection))"
   ]
  },
  {
   "cell_type": "code",
   "execution_count": null,
   "metadata": {},
   "outputs": [],
   "source": [
    "ResultsVisualization('clusters_final-2.json')"
   ]
  }
 ],
 "metadata": {
  "kernelspec": {
   "display_name": "Python 3",
   "language": "python",
   "name": "python3"
  },
  "language_info": {
   "codemirror_mode": {
    "name": "ipython",
    "version": 3
   },
   "file_extension": ".py",
   "mimetype": "text/x-python",
   "name": "python",
   "nbconvert_exporter": "python",
   "pygments_lexer": "ipython3",
   "version": "3.6.3"
  }
 },
 "nbformat": 4,
 "nbformat_minor": 2
}
