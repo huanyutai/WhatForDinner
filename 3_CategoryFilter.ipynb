{
 "cells": [
  {
   "cell_type": "code",
   "execution_count": 15,
   "metadata": {},
   "outputs": [],
   "source": [
    "import json"
   ]
  },
  {
   "cell_type": "code",
   "execution_count": 16,
   "metadata": {},
   "outputs": [],
   "source": [
    "with open('yelp_lv_biz.json','rb') as json_data:\n",
    "    biz_js_data = json_data.read()\n",
    "biz_data = json.loads(biz_js_data)"
   ]
  },
  {
   "cell_type": "code",
   "execution_count": 18,
   "metadata": {},
   "outputs": [],
   "source": [
    "#define the vocabulary list for food\n",
    "voc_list = ['food', 'restaurant', 'bar', 'beer', 'sandwich', 'cafe', 'deli']"
   ]
  },
  {
   "cell_type": "code",
   "execution_count": 19,
   "metadata": {},
   "outputs": [],
   "source": [
    "def whether_food(str_):\n",
    "    for voc in voc_list:\n",
    "        if str_.find(voc) != -1:\n",
    "            return 1\n",
    "        else:\n",
    "            pass\n",
    "    return 0\n"
   ]
  },
  {
   "cell_type": "code",
   "execution_count": 25,
   "metadata": {},
   "outputs": [],
   "source": [
    "for i in range(len(biz_data)):\n",
    "    try:\n",
    "        if whether_food(biz_data[i]['categories'].lower()):\n",
    "            biz_data[i]['whether_Food'] = 1\n",
    "        else:\n",
    "            biz_data[i]['whether_Food'] = 0\n",
    "    except:\n",
    "        biz_data[i]['whether_Food'] = 0"
   ]
  },
  {
   "cell_type": "code",
   "execution_count": null,
   "metadata": {},
   "outputs": [],
   "source": []
  },
  {
   "cell_type": "code",
   "execution_count": 21,
   "metadata": {},
   "outputs": [],
   "source": [
    "biz_lv_food = []"
   ]
  },
  {
   "cell_type": "code",
   "execution_count": 22,
   "metadata": {},
   "outputs": [],
   "source": [
    "for biz in biz_data:\n",
    "    if biz['whether_Food'] == 1:\n",
    "        biz_lv_food.append(biz)"
   ]
  },
  {
   "cell_type": "code",
   "execution_count": 23,
   "metadata": {},
   "outputs": [
    {
     "data": {
      "text/plain": [
       "8937"
      ]
     },
     "execution_count": 23,
     "metadata": {},
     "output_type": "execute_result"
    }
   ],
   "source": [
    "len(biz_lv_food)"
   ]
  },
  {
   "cell_type": "code",
   "execution_count": 24,
   "metadata": {},
   "outputs": [],
   "source": [
    "with open('yelp_lv_food.json', 'w') as f:\n",
    "            json.dump(biz_lv_food, f)"
   ]
  },
  {
   "cell_type": "code",
   "execution_count": null,
   "metadata": {},
   "outputs": [],
   "source": []
  },
  {
   "cell_type": "code",
   "execution_count": null,
   "metadata": {},
   "outputs": [],
   "source": []
  }
 ],
 "metadata": {
  "kernelspec": {
   "display_name": "Python 3",
   "language": "python",
   "name": "python3"
  },
  "language_info": {
   "codemirror_mode": {
    "name": "ipython",
    "version": 3
   },
   "file_extension": ".py",
   "mimetype": "text/x-python",
   "name": "python",
   "nbconvert_exporter": "python",
   "pygments_lexer": "ipython3",
   "version": "3.6.5"
  }
 },
 "nbformat": 4,
 "nbformat_minor": 2
}
