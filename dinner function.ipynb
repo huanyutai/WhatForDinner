{
 "cells": [
  {
   "cell_type": "markdown",
   "metadata": {},
   "source": [
    "# THIS IS THE MAIN FUNCTION ( DEF DINNER) FR THE PROJECT"
   ]
  },
  {
   "cell_type": "code",
   "execution_count": 1,
   "metadata": {},
   "outputs": [],
   "source": [
    "import json"
   ]
  },
  {
   "cell_type": "code",
   "execution_count": 3,
   "metadata": {},
   "outputs": [],
   "source": [
    "with open('clusters.json','rb') as clusters_init:\n",
    "    clusters_data = json.loads(clusters_init.read())"
   ]
  },
  {
   "cell_type": "code",
   "execution_count": 5,
   "metadata": {},
   "outputs": [],
   "source": [
    "with open('clusters_centers.json','rb') as clusters_coordinates:\n",
    "    clusters_coordinates = json.loads(clusters_coordinates.read())"
   ]
  },
  {
   "cell_type": "code",
   "execution_count": 6,
   "metadata": {},
   "outputs": [
    {
     "data": {
      "text/plain": [
       "13"
      ]
     },
     "execution_count": 6,
     "metadata": {},
     "output_type": "execute_result"
    }
   ],
   "source": [
    "len(clusters_coordinates)"
   ]
  },
  {
   "cell_type": "code",
   "execution_count": 11,
   "metadata": {},
   "outputs": [],
   "source": [
    "def dinner(person_site, radius=2):\n",
    "    \n",
    "    p_lati = person_site[0]\n",
    "    p_long = person_site[1]\n",
    "    \n",
    "    \n",
    "    \"\"\"\n",
    "    Here will be a function to determine whether the person is in Las Vegas\n",
    "    \"\"\"\n",
    "    \n",
    "    \"\"\"\n",
    "    For Las Vegas area, we use 1 degree latitude = 111km and 1 degree longitude = 90km\n",
    "    \"\"\"\n",
    "    d_lati = 0.01801801801/4 # 500 meter\n",
    "    d_long = 0.02222222222/4 # 500 meter\n",
    "    \n",
    "    \n",
    "    k_num = len(clusters_data)\n",
    "    k_distance = 100000000\n",
    "    k_count = 0\n",
    "    k_count_nd = 0\n",
    "    k_distance_90=[]\n",
    "    \n",
    "    # below calculate 90 percent quantile\n",
    "    for i in range(len(clusters_data)):\n",
    "        k_distance_ls = []\n",
    "        for rstrt in clusters_data[i]:\n",
    "            k_distance_ls.append((rstrt['latitude'] - clusters_coordinates[i][0])*(rstrt['latitude'] - clusters_coordinates[i][0]) + (rstrt['longitude'] - clusters_coordinates[i][1])*(rstrt['longitude'] - clusters_coordinates[i][1]))\n",
    "        k_distance_90.append(sorted(k_distance_ls)[int(0.9*len(k_distance_ls))])\n",
    "    \n",
    "    # below to get the closest cluster\n",
    "    for i in range(k_num):\n",
    "        if (p_lati - clusters_coordinates[i][0])*(p_lati - clusters_coordinates[i][0]) + (p_long - clusters_coordinates[i][1])*(p_long - clusters_coordinates[i][1]) < min(k_distance,k_distance_90[i]):\n",
    "            k_distance = k_distance_90[i]\n",
    "            k_count = i\n",
    "    \n",
    "    # below to loop over the closest cluster\n",
    "    rstrt_ls=[[p_lati,p_long]]\n",
    "    for rstrt in clusters_data[k_count]:\n",
    "        if abs(p_lati - rstrt['latitude'])<d_lati and abs(p_long - rstrt['longitude'])<d_long:\n",
    "            rstrt_ls.append(rstrt)\n",
    "    \n",
    "    \n",
    "    if len(rstrt_ls) == 1:\n",
    "        # below to get the 2nd closest cluster\n",
    "        k_count_nd = 0\n",
    "        for i in [elem for elem in range(k_num) if elem != k_count]:\n",
    "            if (p_lati - clusters_coordinates[i][0])*(p_lati - clusters_coordinates[i][0]) + (p_long - clusters_coordinates[i][1])*(p_long - clusters_coordinates[i][1]) < min(k_distance,k_distance_90[i]):\n",
    "                k_distance = k_distance_90[i]\n",
    "                k_count_nd = i\n",
    "        # try to loop over the 2nd closest cluster\n",
    "        for rstrt in clusters_data[k_count_nd]:\n",
    "            if abs(p_lati - rstrt['latitude'])<d_lati and abs(p_long - rstrt['longitude'])<d_long:\n",
    "                rstrt_ls.append(rstrt)\n",
    "    \n",
    "    if len(rstrt_ls) != 1:\n",
    "        with open('clusters_final.json', 'w') as f:\n",
    "            json.dump(rstrt_ls, f)\n",
    "    else:\n",
    "        return(\"Oops, there is no such restaurant near you :(\")\n"
   ]
  },
  {
   "cell_type": "code",
   "execution_count": 12,
   "metadata": {},
   "outputs": [],
   "source": [
    "dinner([36.1212, -115.1697])"
   ]
  },
  {
   "cell_type": "code",
   "execution_count": 13,
   "metadata": {},
   "outputs": [],
   "source": [
    "with open('clusters_final.json','rb') as clusters_final:\n",
    "    clusters_final = json.loads(clusters_final.read())"
   ]
  },
  {
   "cell_type": "code",
   "execution_count": 14,
   "metadata": {},
   "outputs": [
    {
     "data": {
      "text/plain": [
       "292"
      ]
     },
     "execution_count": 14,
     "metadata": {},
     "output_type": "execute_result"
    }
   ],
   "source": [
    "len(clusters_final)"
   ]
  },
  {
   "cell_type": "code",
   "execution_count": 62,
   "metadata": {},
   "outputs": [],
   "source": [
    "# k_distance_90=[]\n",
    "# for i in range(len(clusters_data)):\n",
    "#     k_distance_ls = []\n",
    "#     for rstrt in clusters_data[i]:\n",
    "#         k_distance_ls.append((rstrt['latitude'] - clusters_coordinates[i][0])*(rstrt['latitude'] - clusters_coordinates[i][0]) + (rstrt['longitude'] - clusters_coordinates[i][1])*(rstrt['longitude'] - clusters_coordinates[i][1]))\n",
    "#     k_distance_90.append(sorted(k_distance_ls)[int(0.9*len(k_distance_ls))])"
   ]
  },
  {
   "cell_type": "code",
   "execution_count": 64,
   "metadata": {},
   "outputs": [
    {
     "data": {
      "text/plain": [
       "[0.0316686621863352,\n",
       " 0.03947588944094134,\n",
       " 0.04592910305790843,\n",
       " 0.05811040784866637,\n",
       " 8.857115519404477]"
      ]
     },
     "execution_count": 64,
     "metadata": {},
     "output_type": "execute_result"
    }
   ],
   "source": [
    "# k_distance_90"
   ]
  }
 ],
 "metadata": {
  "kernelspec": {
   "display_name": "Python 3",
   "language": "python",
   "name": "python3"
  },
  "language_info": {
   "codemirror_mode": {
    "name": "ipython",
    "version": 3
   },
   "file_extension": ".py",
   "mimetype": "text/x-python",
   "name": "python",
   "nbconvert_exporter": "python",
   "pygments_lexer": "ipython3",
   "version": "3.6.5"
  }
 },
 "nbformat": 4,
 "nbformat_minor": 2
}
