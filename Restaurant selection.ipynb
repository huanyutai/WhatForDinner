{
 "cells": [
  {
   "cell_type": "code",
   "execution_count": 1,
   "metadata": {},
   "outputs": [],
   "source": [
    "import urllib\n",
    "from bs4 import BeautifulSoup\n",
    "import requests"
   ]
  },
  {
   "cell_type": "code",
   "execution_count": 113,
   "metadata": {},
   "outputs": [],
   "source": [
    "import json\n",
    "with open('clusters_final.json','r') as json_data:\n",
    "    data = json_data.read()\n",
    "restaurants = json.loads(data)[1:]"
   ]
  },
  {
   "cell_type": "code",
   "execution_count": 114,
   "metadata": {},
   "outputs": [],
   "source": [
    "CLIENT_ID = 'MTEIv4L-41Olwx1uNaZ38A'\n",
    "API_KEY = 'UZj_XiL56l9G-t4tOay6RFbhJ2-oUPhq6yvdcPsNnD1U-AsRa8QkIJ1waJhuaeZGclxAAUzPGZ7xPW8_0FA6oSmg22cebQZYjQ-H3C6LpLnzVSK6qmh-YXQKkOsCXHYx'"
   ]
  },
  {
   "cell_type": "code",
   "execution_count": 115,
   "metadata": {},
   "outputs": [],
   "source": [
    "# API constants, you shouldn't have to change these.\n",
    "API_HOST = 'https://api.yelp.com' #The API url header\n",
    "SEARCH_PATH = '/v3/businesses/search' #The path for an API request to find businesses\n",
    "BUSINESS_PATH = '/v3/businesses/'  # The path to get data for a single business"
   ]
  },
  {
   "cell_type": "code",
   "execution_count": 116,
   "metadata": {},
   "outputs": [],
   "source": [
    "def get_restaurants_alias(api_key,name,location):\n",
    "    import requests\n",
    "    \n",
    "    #First we get the access token\n",
    "    #Set up the search data dictionary\n",
    "    search_data = {\n",
    "    'term': name,\n",
    "    'location': location.replace(' ', '+'),\n",
    "    'limit': 1\n",
    "    }\n",
    "    url = API_HOST + SEARCH_PATH\n",
    "    headers = {\n",
    "        'Authorization': 'Bearer %s' % api_key,\n",
    "    }\n",
    "    response = requests.request('GET', url, headers=headers, params=search_data).json()\n",
    "    businesses = response.get('businesses')[0]\n",
    "    \n",
    "    res_name = businesses['name']\n",
    "    res_alias =  businesses['alias']\n",
    "    \n",
    "    if res_name.lower() == name.lower():\n",
    "        return res_alias\n",
    "    return None"
   ]
  },
  {
   "cell_type": "code",
   "execution_count": 112,
   "metadata": {},
   "outputs": [
    {
     "data": {
      "text/plain": [
       "'center-bar-las-vegas-6'"
      ]
     },
     "execution_count": 112,
     "metadata": {},
     "output_type": "execute_result"
    }
   ],
   "source": [
    "get_restaurants_alias(API_KEY,'Center Bar',\"3400 Las Vegas Blvd S, Las Vegas\")"
   ]
  },
  {
   "cell_type": "code",
   "execution_count": 79,
   "metadata": {},
   "outputs": [],
   "source": [
    "def get_business_review(api_key,business_id):\n",
    "    import json\n",
    "    import requests\n",
    "    business_path = BUSINESS_PATH + business_id\n",
    "    url = API_HOST + business_path\n",
    "    return url\n",
    "\n",
    "    headers = {\n",
    "        'Authorization': 'Bearer %s' % api_key,\n",
    "    }\n",
    "\n",
    "\n",
    "    response = requests.request('GET', url, headers=headers).json()\n",
    "    return response\n",
    "   \n",
    "    review_text = ''\n",
    "    for review in response['reviews']:\n",
    "        review_text += review['text']\n",
    "    return review_text"
   ]
  },
  {
   "cell_type": "code",
   "execution_count": 80,
   "metadata": {},
   "outputs": [
    {
     "data": {
      "text/plain": [
       "'https://api.yelp.com/v3/businesses/mon-ami-gabi-las-vegas-2'"
      ]
     },
     "execution_count": 80,
     "metadata": {},
     "output_type": "execute_result"
    }
   ],
   "source": [
    "get_business_review(API_KEY,'mon-ami-gabi-las-vegas-2')"
   ]
  },
  {
   "cell_type": "code",
   "execution_count": 120,
   "metadata": {},
   "outputs": [
    {
     "name": "stdout",
     "output_type": "stream",
     "text": [
      "{'ground_beef', 'burger', 'hamburger', 'beefburger'}\n"
     ]
    }
   ],
   "source": [
    "import nltk \n",
    "from nltk.corpus import wordnet \n",
    "synonyms = [] \n",
    "antonyms = [] \n",
    "  \n",
    "for syn in wordnet.synsets('hamburger'):\n",
    "    for l in syn.lemmas(): \n",
    "        synonyms.append(l.name()) \n",
    "        if l.antonyms(): \n",
    "            antonyms.append(l.antonyms()[0].name()) \n",
    "  \n",
    "print(set(synonyms))"
   ]
  },
  {
   "cell_type": "code",
   "execution_count": 125,
   "metadata": {},
   "outputs": [
    {
     "data": {
      "text/plain": [
       "['Vacation Rentals, Lounges, Nightlife, Sports Bars, Bars, Hotels & Travel',\n",
       " 'Food, Specialty Food',\n",
       " 'Restaurants, Italian',\n",
       " 'Comfort Food, Restaurants, Fish & Chips, Seafood',\n",
       " 'Restaurants, Sandwiches',\n",
       " 'Food, Ice Cream & Frozen Yogurt',\n",
       " 'Food, Breweries, Bars, Nightlife',\n",
       " 'Restaurants, Bakeries, Desserts, French, Sandwiches, Food',\n",
       " 'Restaurants, Fast Food',\n",
       " 'Chicken Wings, Restaurants',\n",
       " 'Sports Bars, Nightlife, Bars',\n",
       " 'Restaurants, Burgers',\n",
       " 'Bars, Nightlife, Cocktail Bars',\n",
       " 'Bars, Nightlife',\n",
       " 'Bars, Nightlife',\n",
       " 'Italian, Restaurants',\n",
       " 'Restaurants, Seafood, Steakhouses',\n",
       " 'Gelato, Food, Coffee & Tea, Desserts',\n",
       " 'Casinos, Arts & Entertainment, Restaurants, Asian Fusion',\n",
       " 'Food, Juice Bars & Smoothies, Ice Cream & Frozen Yogurt',\n",
       " 'Ice Cream & Frozen Yogurt, Food, Coffee & Tea, Chocolatiers & Shops, Specialty Food',\n",
       " 'Food, Nightlife, Beer, Wine & Spirits',\n",
       " 'Food, Bakeries, Desserts',\n",
       " 'Breakfast & Brunch, American (New), American (Traditional), Restaurants',\n",
       " 'Japanese, Lounges, Sushi Bars, Nightlife, Bars, Restaurants',\n",
       " 'Gastropubs, American (New), Steakhouses, Seafood, Restaurants',\n",
       " 'Hotels & Travel, Food Tours, Tours',\n",
       " 'Bakeries, Coffee & Tea, Cafes, Food, Restaurants',\n",
       " 'Restaurants, Seafood, Pizza, Mediterranean, Modern European, Italian',\n",
       " 'Restaurants, Tacos, Mexican, Tex-Mex',\n",
       " 'Nightlife, Bar Crawl, Bars',\n",
       " 'Cocktail Bars, Lounges, Nightlife, Bars',\n",
       " 'Arts & Entertainment, Nightlife, Performing Arts, Cabaret',\n",
       " 'Southern, American (New), Tex-Mex, Mexican, Restaurants, New Mexican Cuisine, American (Traditional)',\n",
       " 'Bars, Nightlife, Food, Cocktail Bars, Juice Bars & Smoothies',\n",
       " 'Restaurants, American (New), Coffee & Tea, Nightlife, Cocktail Bars, Tapas Bars, Desserts, Tapas/Small Plates, American (Traditional), Bars, Wine Bars, Food',\n",
       " 'Cocktail Bars, Nightlife, Bars',\n",
       " 'Donuts, Food',\n",
       " 'Restaurants, Sushi Bars, Seafood, Japanese, Asian Fusion, Mexican',\n",
       " 'Steakhouses, Restaurants',\n",
       " 'Restaurants, Pizza',\n",
       " 'Venues & Event Spaces, Event Planning & Services, Restaurants, Food, Italian, Salad, Desserts, Caterers, Seafood',\n",
       " 'Desserts, Specialty Food, Food, Chocolatiers & Shops, Ice Cream & Frozen Yogurt, Restaurants',\n",
       " 'American (Traditional), Italian, Restaurants',\n",
       " 'Food, Whiskey Bars, Wine Bars, Nightlife, Beer, Wine & Spirits, Bars',\n",
       " 'Champagne Bars, Bakeries, Coffee & Tea, Specialty Food, Nightlife, Macarons, Food, Bars',\n",
       " 'Coffee & Tea, Food',\n",
       " 'Barbers, Beauty & Spas',\n",
       " 'Massage, Beauty & Spas, Lounges, Bars, Nightlife',\n",
       " 'Food, Coffee & Tea',\n",
       " 'Food, Restaurants, French, Coffee & Tea',\n",
       " 'Southern, Restaurants, American (New)',\n",
       " 'Food, Beer, Wine & Spirits',\n",
       " 'Food, Nightlife, Bars, Seafood, Lounges, Steakhouses, Live/Raw Food, Bakeries, Restaurants',\n",
       " 'Japanese, Korean, Chinese, Thai, Sushi Bars, Restaurants, Vietnamese',\n",
       " 'Restaurants, Seafood, American (New), Barbeque, American (Traditional), Food, Desserts',\n",
       " 'Sandwiches, American (Traditional), Food, American (New), Restaurants, Desserts',\n",
       " 'Seafood, Restaurants, Live/Raw Food, Italian',\n",
       " 'American (New), Asian Fusion, Restaurants, Vegetarian, American (Traditional), Nightlife, Cocktail Bars, Steakhouses, Wine Bars, Seafood, Beer Bar, Bars',\n",
       " 'Cosmetics & Beauty Supply, Beauty & Spas, Shopping, Barbers',\n",
       " 'Beauty & Spas, Barbers',\n",
       " 'Nightlife, Bars',\n",
       " 'Nightlife, Bars, Lounges',\n",
       " 'Restaurants, Italian',\n",
       " 'Arts & Entertainment, Performing Arts, Cabaret',\n",
       " 'Beauty & Spas, Oxygen Bars, Health & Medical, Day Spas',\n",
       " 'Shopping, Bars, Tobacco Shops, Nightlife',\n",
       " 'Chicken Shop, American (New), Restaurants',\n",
       " 'Food, Herbs & Spices, Specialty Food, Beer, Wine & Spirits',\n",
       " 'Steakhouses, Seafood, Restaurants',\n",
       " 'Food, Ice Cream & Frozen Yogurt',\n",
       " 'Breakfast & Brunch, American (New), Restaurants',\n",
       " 'Shopping, Cosmetics & Beauty Supply, Barbers, Beauty & Spas',\n",
       " 'Peruvian, Asian Fusion, Latin American, Restaurants, Japanese',\n",
       " 'Bakeries, Breakfast & Brunch, Food, French, Venues & Event Spaces, Cafes, Event Planning & Services, Restaurants',\n",
       " 'Food, Ice Cream & Frozen Yogurt, Specialty Food, Chocolatiers & Shops',\n",
       " 'Nightlife, Bars, Sports Bars',\n",
       " 'Vegetarian, Halal, Indian, Restaurants',\n",
       " 'Food, Cupcakes, Bakeries, Ice Cream & Frozen Yogurt',\n",
       " 'Flowers & Gifts, Bakeries, Chocolatiers & Shops, Shopping, Desserts, Food, Specialty Food, Gift Shops',\n",
       " 'Lounges, Local Flavor, Nightlife, Bars, Food, Beer, Wine & Spirits, Hotels & Travel',\n",
       " 'Bars, Nightlife, Restaurants, Lounges, Steakhouses',\n",
       " 'Barbers, Beauty & Spas',\n",
       " 'Macarons, Specialty Food, Food, Ice Cream & Frozen Yogurt, Desserts, Gelato',\n",
       " 'Shopping, Watches, Beer, Wine & Spirits, Beauty & Spas, Cosmetics & Beauty Supply, Food',\n",
       " 'Restaurants, Burgers, Fast Food',\n",
       " 'Cocktail Bars, Lounges, Nightlife, Bars',\n",
       " 'Nightlife, Lounges, Bars',\n",
       " 'American (New), Burgers, Restaurants, Breakfast & Brunch',\n",
       " 'Food, Chocolatiers & Shops, Specialty Food, Desserts, Candy Stores',\n",
       " 'Mexican, Restaurants, Bars, Nightlife, Latin American, Wine Bars',\n",
       " 'Chinese, Japanese, Nightlife, Dim Sum, Asian Fusion, Restaurants, Bars, Breakfast & Brunch',\n",
       " 'Seafood, Restaurants, Tapas/Small Plates, Mexican, Breakfast & Brunch',\n",
       " 'Italian, Restaurants, Mediterranean, Tapas Bars',\n",
       " 'Restaurants, Buffets',\n",
       " 'American (New), Restaurants, Steakhouses, Seafood',\n",
       " 'Convenience Stores, Photography Stores & Services, Cosmetics & Beauty Supply, Shopping, Food, Beauty & Spas, Drugstores',\n",
       " 'Nightlife, Restaurants, Chicken Wings, Burgers, Bars, Beer Bar',\n",
       " 'Juice Bars & Smoothies, Specialty Food, Ice Cream & Frozen Yogurt, Food, Candy Stores, Desserts',\n",
       " 'Arts & Entertainment, Music Venues, Bars, Nightlife',\n",
       " 'Steakhouses, Restaurants, Cajun/Creole',\n",
       " 'Steakhouses, Nightlife, Wine Bars, Bars, Restaurants, Seafood',\n",
       " 'Desserts, Bakeries, Food',\n",
       " 'American (New), Nightlife, Comfort Food, Bars, Restaurants',\n",
       " 'Beer Bar, Cocktail Bars, Nightlife, Bars']"
      ]
     },
     "execution_count": 125,
     "metadata": {},
     "output_type": "execute_result"
    }
   ],
   "source": [
    "categories = []\n",
    "for restaurant in restaurants:\n",
    "    categories.append(restaurant['categories'])\n",
    "categories"
   ]
  },
  {
   "cell_type": "code",
   "execution_count": null,
   "metadata": {},
   "outputs": [],
   "source": []
  }
 ],
 "metadata": {
  "kernelspec": {
   "display_name": "Python 3",
   "language": "python",
   "name": "python3"
  },
  "language_info": {
   "codemirror_mode": {
    "name": "ipython",
    "version": 3
   },
   "file_extension": ".py",
   "mimetype": "text/x-python",
   "name": "python",
   "nbconvert_exporter": "python",
   "pygments_lexer": "ipython3",
   "version": "3.6.5"
  }
 },
 "nbformat": 4,
 "nbformat_minor": 2
}
