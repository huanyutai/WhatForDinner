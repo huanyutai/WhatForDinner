{
 "cells": [
  {
   "cell_type": "code",
   "execution_count": 3,
   "metadata": {},
   "outputs": [],
   "source": [
    "import json\n",
    "\n",
    "with open('yelp_academic_dataset_business.json','rb') as json_data:\n",
    "    data = json_data.readlines()\n",
    "    yelp_data = [json.loads(item) for item in data]\n",
    "    result = []\n",
    "    for yelp_dict in yelp_data:\n",
    "            name = yelp_dict['name']\n",
    "            address = yelp_dict['address']\n",
    "            city = yelp_dict['city']\n",
    "            state = yelp_dict['state']\n",
    "            latitude = yelp_dict['latitude']\n",
    "            longitude = yelp_dict['longitude']\n",
    "            stars = yelp_dict['stars']\n",
    "            categories = yelp_dict['categories']\n",
    "            \n",
    "            temp_dict = {}\n",
    "            \n",
    "            yelp = './yelp.json'\n",
    "            temp_dict['name'] = name\n",
    "            temp_dict['address'] = address\n",
    "            temp_dict['city'] = city\n",
    "            temp_dict['state'] = state\n",
    "            temp_dict['latitude'] = latitude\n",
    "            temp_dict['longitude'] = longitude\n",
    "            temp_dict['stars'] = stars\n",
    "            temp_dict['categories'] = categories\n",
    "            result.append(temp_dict)\n",
    "            \n",
    "with open(yelp, 'w') as f:\n",
    "            json.dump(result, f)"
   ]
  },
  {
   "cell_type": "code",
   "execution_count": null,
   "metadata": {},
   "outputs": [],
   "source": []
  }
 ],
 "metadata": {
  "kernelspec": {
   "display_name": "Python 3",
   "language": "python",
   "name": "python3"
  },
  "language_info": {
   "codemirror_mode": {
    "name": "ipython",
    "version": 3
   },
   "file_extension": ".py",
   "mimetype": "text/x-python",
   "name": "python",
   "nbconvert_exporter": "python",
   "pygments_lexer": "ipython3",
   "version": "3.6.5"
  }
 },
 "nbformat": 4,
 "nbformat_minor": 2
}
